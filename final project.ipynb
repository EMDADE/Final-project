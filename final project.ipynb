{
 "cells": [
  {
   "cell_type": "markdown",
   "id": "d0847b6c-b8d1-460c-ba14-48bde83fe659",
   "metadata": {},
   "source": [
    "# My Jupyter Notebook on IBM Watson Studio"
   ]
  },
  {
   "cell_type": "markdown",
   "id": "5d77447e-eba4-45d8-ba9c-3713fd06f9e8",
   "metadata": {},
   "source": [
    "**Enrico**  \n",
    "Student"
   ]
  },
  {
   "cell_type": "markdown",
   "id": "5fb3c952-4867-4861-b1a0-a70ccf1c44d6",
   "metadata": {},
   "source": [
    "*Data science interests me because it offers great earning opportunities and allows you to have a job in a short time*"
   ]
  },
  {
   "cell_type": "markdown",
   "id": "eecf5feb-a152-45ef-941a-dde9aef90283",
   "metadata": {},
   "source": [
    "### The box below will do a 1+1 operation and the result will be 2"
   ]
  },
  {
   "cell_type": "code",
   "execution_count": 2,
   "id": "9832adfb-1edf-4d0c-99b9-718ff6505093",
   "metadata": {},
   "outputs": [
    {
     "data": {
      "text/plain": [
       "2"
      ]
     },
     "execution_count": 2,
     "metadata": {},
     "output_type": "execute_result"
    }
   ],
   "source": [
    "1+1"
   ]
  },
  {
   "cell_type": "markdown",
   "id": "5a123d7a-735f-4e91-9326-d51def6e6bbd",
   "metadata": {},
   "source": [
    "* one\n",
    "* two\n",
    "* three  \n",
    "\n",
    "| Column 1 | Column 2 | Column 3 |\n",
    "| --- | --- | --- |\n",
    "| 1 | 2 |  3 |\n",
    "| 4 | 5 | 6 |\n",
    "\n",
    "[Wikipedia's Homepage](https://it.wikipedia.org/wiki/Home_page)\n",
    "\n"
   ]
  }
 ],
 "metadata": {
  "kernelspec": {
   "display_name": "Python",
   "language": "python",
   "name": "conda-env-python-py"
  },
  "language_info": {
   "codemirror_mode": {
    "name": "ipython",
    "version": 3
   },
   "file_extension": ".py",
   "mimetype": "text/x-python",
   "name": "python",
   "nbconvert_exporter": "python",
   "pygments_lexer": "ipython3",
   "version": "3.7.12"
  }
 },
 "nbformat": 4,
 "nbformat_minor": 5
}
